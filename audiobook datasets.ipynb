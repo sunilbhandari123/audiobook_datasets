{
 "cells": [
  {
   "cell_type": "code",
   "execution_count": 58,
   "id": "8cdf4e3e",
   "metadata": {},
   "outputs": [],
   "source": [
    "import numpy as np\n",
    "from matplotlib import pyplot as plt\n",
    "import tensorflow as tf\n",
    "from sklearn import preprocessing"
   ]
  },
  {
   "cell_type": "code",
   "execution_count": 59,
   "id": "fb87f6f5",
   "metadata": {},
   "outputs": [],
   "source": [
    "raw_data=np.loadtxt('Audiobooks_data.csv',delimiter=',') #loading the data\n",
    "unscaled_input_all=raw_data[:,1:-1]\n",
    "target_all=raw_data[:,-1]\n",
    "\n"
   ]
  },
  {
   "cell_type": "markdown",
   "id": "93674501",
   "metadata": {},
   "source": [
    "balancing the data"
   ]
  },
  {
   "cell_type": "code",
   "execution_count": 60,
   "id": "c92637b8",
   "metadata": {},
   "outputs": [],
   "source": [
    "num_of_target_one=int(np.sum(target_all))   #counting how many targets are one"
   ]
  },
  {
   "cell_type": "code",
   "execution_count": 61,
   "id": "abc8bbb1",
   "metadata": {},
   "outputs": [],
   "source": [
    "target_counter_zero=0"
   ]
  },
  {
   "cell_type": "code",
   "execution_count": 62,
   "id": "f4d6b34a",
   "metadata": {},
   "outputs": [],
   "source": [
    "#for balancing the o and 1 in target we need to remove some data"
   ]
  },
  {
   "cell_type": "code",
   "execution_count": 63,
   "id": "16cc94b9",
   "metadata": {},
   "outputs": [],
   "source": [
    "indices_to_remove=[] #variable to remove that data"
   ]
  },
  {
   "cell_type": "code",
   "execution_count": 64,
   "id": "148191d7",
   "metadata": {},
   "outputs": [],
   "source": [
    "for i in range(target_all.shape[0]):     #counting the zero as 0 and 1 are equal mark entries 0 to delete\n",
    "    if target_all[i]==0:\n",
    "        target_counter_zero += 1\n",
    "        if target_counter_zero>num_of_target_one:\n",
    "            indices_to_remove.append(i)\n",
    "    "
   ]
  },
  {
   "cell_type": "code",
   "execution_count": 65,
   "id": "31813ab7",
   "metadata": {},
   "outputs": [],
   "source": [
    "unscaled_input_equal_priors=np.delete(unscaled_input_all,indices_to_remove,axis=0)\n",
    "target_equal_priors=np.delete(target_all,indices_to_remove,axis=0)\n",
    "\n",
    "#here perviously marked entries will be deleted from input and the target and  the data will be balanced"
   ]
  },
  {
   "cell_type": "markdown",
   "id": "b92c1716",
   "metadata": {},
   "source": [
    "standardizing the data\n"
   ]
  },
  {
   "cell_type": "code",
   "execution_count": 66,
   "id": "7728597c",
   "metadata": {},
   "outputs": [],
   "source": [
    "scaled_input=preprocessing.scale(unscaled_input_equal_priors)"
   ]
  },
  {
   "cell_type": "markdown",
   "id": "1d84ab1e",
   "metadata": {},
   "source": [
    "shuffling the data"
   ]
  },
  {
   "cell_type": "code",
   "execution_count": 67,
   "id": "90d9b2bc",
   "metadata": {},
   "outputs": [],
   "source": [
    "shuffled_indices=np.arange(scaled_input.shape[0])\n",
    "np.random.shuffle(shuffled_indices)\n",
    "\n",
    "#now using shuffled indices to shuffle the data inputs and targets\n",
    "shuffled_inputs=scaled_input[shuffled_indices]\n",
    "shuffled_targets=target_equal_priors[shuffled_indices]\n"
   ]
  },
  {
   "cell_type": "markdown",
   "id": "04732fff",
   "metadata": {},
   "source": [
    "TRAIN VALIDATION TEST DATA"
   ]
  },
  {
   "cell_type": "code",
   "execution_count": 68,
   "id": "4344ff49",
   "metadata": {},
   "outputs": [
    {
     "name": "stdout",
     "output_type": "stream",
     "text": [
      "1792.0 3579 0.5006985191394244\n",
      "226.0 447 0.5055928411633109\n",
      "219.0 448 0.4888392857142857\n"
     ]
    }
   ],
   "source": [
    "sample_count=shuffled_inputs.shape[0]\n",
    "train_sample_count=int(0.8*sample_count)\n",
    "validation_sample_count=int(0.1*sample_count)\n",
    "test_sample_count=sample_count - train_sample_count - validation_sample_count\n",
    "\n",
    "\n",
    "train_input=shuffled_inputs[:train_sample_count]\n",
    "train_target=shuffled_targets[:train_sample_count]\n",
    "\n",
    "\n",
    "validation_input=shuffled_inputs[train_sample_count:train_sample_count+validation_sample_count]\n",
    "validation_target=shuffled_targets[train_sample_count:train_sample_count+validation_sample_count]\n",
    "\n",
    "test_input=shuffled_inputs[train_sample_count+validation_sample_count:]\n",
    "test_target=shuffled_targets[train_sample_count+validation_sample_count:]\n",
    "\n",
    "\n",
    "print(np.sum(train_target), train_sample_count, np.sum(train_target) / train_sample_count)\n",
    "print(np.sum(validation_target), validation_sample_count, np.sum(validation_target) / validation_sample_count)\n",
    "print(np.sum(test_target), test_sample_count, np.sum(test_target) / test_sample_count)\n"
   ]
  },
  {
   "cell_type": "markdown",
   "id": "f62cd599",
   "metadata": {},
   "source": [
    "SAVING THE DATASETS IN NPZ FILE"
   ]
  },
  {
   "cell_type": "code",
   "execution_count": 70,
   "id": "db6d22c7",
   "metadata": {},
   "outputs": [],
   "source": [
    "np.savez(\"audiobook_data_train\",input=train_input,target=train_target)\n",
    "np.savez(\"audiobook_data_validation\",input=validation_input,target=validation_target)\n",
    "np.savez(\"audiobook_data_test\",input=test_input,target=test_target)"
   ]
  },
  {
   "cell_type": "code",
   "execution_count": null,
   "id": "a54171b1",
   "metadata": {},
   "outputs": [],
   "source": []
  }
 ],
 "metadata": {
  "kernelspec": {
   "display_name": "Python 3 (ipykernel)",
   "language": "python",
   "name": "python3"
  },
  "language_info": {
   "codemirror_mode": {
    "name": "ipython",
    "version": 3
   },
   "file_extension": ".py",
   "mimetype": "text/x-python",
   "name": "python",
   "nbconvert_exporter": "python",
   "pygments_lexer": "ipython3",
   "version": "3.9.13"
  }
 },
 "nbformat": 4,
 "nbformat_minor": 5
}
